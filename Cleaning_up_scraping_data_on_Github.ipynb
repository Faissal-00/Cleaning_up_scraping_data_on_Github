{
 "cells": [
  {
   "cell_type": "markdown",
   "id": "1f8e1938",
   "metadata": {},
   "source": [
    "# Cleaning"
   ]
  },
  {
   "cell_type": "code",
   "execution_count": 1,
   "id": "466b4e11",
   "metadata": {},
   "outputs": [],
   "source": [
    "# Importation of libraries \n",
    "import pandas as pd\n",
    "import numpy as np\n",
    "import matplotlib.pyplot as plt\n",
    "import seaborn as sns"
   ]
  },
  {
   "cell_type": "code",
   "execution_count": 2,
   "id": "6dd5e377",
   "metadata": {},
   "outputs": [
    {
     "data": {
      "text/html": [
       "<div>\n",
       "<style scoped>\n",
       "    .dataframe tbody tr th:only-of-type {\n",
       "        vertical-align: middle;\n",
       "    }\n",
       "\n",
       "    .dataframe tbody tr th {\n",
       "        vertical-align: top;\n",
       "    }\n",
       "\n",
       "    .dataframe thead th {\n",
       "        text-align: right;\n",
       "    }\n",
       "</style>\n",
       "<table border=\"1\" class=\"dataframe\">\n",
       "  <thead>\n",
       "    <tr style=\"text-align: right;\">\n",
       "      <th></th>\n",
       "      <th>name</th>\n",
       "      <th>url</th>\n",
       "      <th>description</th>\n",
       "      <th>stars</th>\n",
       "      <th>created_at</th>\n",
       "      <th>language</th>\n",
       "      <th>forks</th>\n",
       "      <th>watchers</th>\n",
       "      <th>open_issues</th>\n",
       "      <th>owner</th>\n",
       "    </tr>\n",
       "  </thead>\n",
       "  <tbody>\n",
       "    <tr>\n",
       "      <th>0</th>\n",
       "      <td>notepad--</td>\n",
       "      <td>https://github.com/cxasm/notepad--</td>\n",
       "      <td>一个支持windows/linux/mac的文本编辑器，目标是做中国人自己的编辑器，来自中国。</td>\n",
       "      <td>2939</td>\n",
       "      <td>2022-06-15T02:50:15Z</td>\n",
       "      <td>C++</td>\n",
       "      <td>117</td>\n",
       "      <td>2939</td>\n",
       "      <td>114</td>\n",
       "      <td>cxasm</td>\n",
       "    </tr>\n",
       "    <tr>\n",
       "      <th>1</th>\n",
       "      <td>pocket-casts-android</td>\n",
       "      <td>https://github.com/Automattic/pocket-casts-and...</td>\n",
       "      <td>Pocket Casts Android 🎧</td>\n",
       "      <td>2250</td>\n",
       "      <td>2022-06-15T12:41:42Z</td>\n",
       "      <td>Kotlin</td>\n",
       "      <td>168</td>\n",
       "      <td>2250</td>\n",
       "      <td>252</td>\n",
       "      <td>Automattic</td>\n",
       "    </tr>\n",
       "    <tr>\n",
       "      <th>2</th>\n",
       "      <td>nvim-basic-ide</td>\n",
       "      <td>https://github.com/LunarVim/nvim-basic-ide</td>\n",
       "      <td>🪨 This is my attempt at a basic stable startin...</td>\n",
       "      <td>1664</td>\n",
       "      <td>2022-06-15T23:06:53Z</td>\n",
       "      <td>Lua</td>\n",
       "      <td>436</td>\n",
       "      <td>1664</td>\n",
       "      <td>3</td>\n",
       "      <td>LunarVim</td>\n",
       "    </tr>\n",
       "    <tr>\n",
       "      <th>3</th>\n",
       "      <td>sismo-hub</td>\n",
       "      <td>https://github.com/sismo-core/sismo-hub</td>\n",
       "      <td>NaN</td>\n",
       "      <td>893</td>\n",
       "      <td>2022-06-15T16:44:53Z</td>\n",
       "      <td>TypeScript</td>\n",
       "      <td>184</td>\n",
       "      <td>893</td>\n",
       "      <td>7</td>\n",
       "      <td>sismo-core</td>\n",
       "    </tr>\n",
       "    <tr>\n",
       "      <th>4</th>\n",
       "      <td>Antenna</td>\n",
       "      <td>https://github.com/wuba/Antenna</td>\n",
       "      <td>Antenna是58同城安全团队打造的一款辅助安全从业人员验证网络中多种漏洞是否存在以及可利...</td>\n",
       "      <td>675</td>\n",
       "      <td>2022-06-15T06:42:25Z</td>\n",
       "      <td>JavaScript</td>\n",
       "      <td>72</td>\n",
       "      <td>675</td>\n",
       "      <td>3</td>\n",
       "      <td>wuba</td>\n",
       "    </tr>\n",
       "  </tbody>\n",
       "</table>\n",
       "</div>"
      ],
      "text/plain": [
       "                   name                                                url   \n",
       "0             notepad--                 https://github.com/cxasm/notepad--  \\\n",
       "1  pocket-casts-android  https://github.com/Automattic/pocket-casts-and...   \n",
       "2        nvim-basic-ide         https://github.com/LunarVim/nvim-basic-ide   \n",
       "3             sismo-hub            https://github.com/sismo-core/sismo-hub   \n",
       "4               Antenna                    https://github.com/wuba/Antenna   \n",
       "\n",
       "                                         description  stars   \n",
       "0    一个支持windows/linux/mac的文本编辑器，目标是做中国人自己的编辑器，来自中国。   2939  \\\n",
       "1                             Pocket Casts Android 🎧   2250   \n",
       "2  🪨 This is my attempt at a basic stable startin...   1664   \n",
       "3                                                NaN    893   \n",
       "4  Antenna是58同城安全团队打造的一款辅助安全从业人员验证网络中多种漏洞是否存在以及可利...    675   \n",
       "\n",
       "             created_at    language  forks  watchers  open_issues       owner  \n",
       "0  2022-06-15T02:50:15Z         C++    117      2939          114       cxasm  \n",
       "1  2022-06-15T12:41:42Z      Kotlin    168      2250          252  Automattic  \n",
       "2  2022-06-15T23:06:53Z         Lua    436      1664            3    LunarVim  \n",
       "3  2022-06-15T16:44:53Z  TypeScript    184       893            7  sismo-core  \n",
       "4  2022-06-15T06:42:25Z  JavaScript     72       675            3        wuba  "
      ]
     },
     "execution_count": 2,
     "metadata": {},
     "output_type": "execute_result"
    }
   ],
   "source": [
    "# Read the file\n",
    "df = pd.read_csv('repositories.csv')\n",
    "df.head()"
   ]
  },
  {
   "cell_type": "code",
   "execution_count": 3,
   "id": "f7a0e02f",
   "metadata": {},
   "outputs": [
    {
     "name": "stdout",
     "output_type": "stream",
     "text": [
      "(18300, 10)\n"
     ]
    }
   ],
   "source": [
    "# Size\n",
    "print(df.shape)"
   ]
  },
  {
   "cell_type": "code",
   "execution_count": 4,
   "id": "78efd634",
   "metadata": {},
   "outputs": [
    {
     "name": "stdout",
     "output_type": "stream",
     "text": [
      "True\n"
     ]
    }
   ],
   "source": [
    "# Check if watchers column equal to stars column\n",
    "is_identical = df['watchers'].equals(df['stars'])\n",
    "print(is_identical)"
   ]
  },
  {
   "cell_type": "code",
   "execution_count": 5,
   "id": "5e01b510",
   "metadata": {},
   "outputs": [],
   "source": [
    "# Drop watchers column\n",
    "df.drop('watchers', axis=1, inplace=True)"
   ]
  },
  {
   "cell_type": "code",
   "execution_count": 6,
   "id": "4ebe4f4e",
   "metadata": {},
   "outputs": [
    {
     "name": "stdout",
     "output_type": "stream",
     "text": [
      "Number of duplicates: 0\n"
     ]
    }
   ],
   "source": [
    "# Count duplicates\n",
    "duplicate_count = df.duplicated().sum()\n",
    "print(f\"Number of duplicates: {duplicate_count}\")"
   ]
  },
  {
   "cell_type": "code",
   "execution_count": 7,
   "id": "307d03d5",
   "metadata": {},
   "outputs": [
    {
     "name": "stdout",
     "output_type": "stream",
     "text": [
      "Number of missing values:\n",
      "name              0\n",
      "url               0\n",
      "description    2083\n",
      "stars             0\n",
      "created_at        0\n",
      "language       2231\n",
      "forks             0\n",
      "open_issues       0\n",
      "owner             0\n"
     ]
    }
   ],
   "source": [
    "# Count missing values\n",
    "missing_count = df.isnull().sum()\n",
    "print(\"Number of missing values:\")\n",
    "print(df.isnull().sum().to_string())"
   ]
  },
  {
   "cell_type": "code",
   "execution_count": 8,
   "id": "9d260c4d",
   "metadata": {},
   "outputs": [],
   "source": [
    "# Fill missing values in the 'description' column\n",
    "df['description'] = df['description'].fillna('There is no description')"
   ]
  },
  {
   "cell_type": "code",
   "execution_count": 9,
   "id": "b4ad1006",
   "metadata": {},
   "outputs": [],
   "source": [
    "# Drop rows with missing values in the 'language' column\n",
    "df.dropna(subset=['language'], inplace=True)"
   ]
  },
  {
   "cell_type": "code",
   "execution_count": 10,
   "id": "527ae9e9",
   "metadata": {},
   "outputs": [
    {
     "name": "stdout",
     "output_type": "stream",
     "text": [
      "Number of missing values:\n",
      "name           0\n",
      "url            0\n",
      "description    0\n",
      "stars          0\n",
      "created_at     0\n",
      "language       0\n",
      "forks          0\n",
      "open_issues    0\n",
      "owner          0\n"
     ]
    }
   ],
   "source": [
    "# Count missing values\n",
    "print(\"Number of missing values:\")\n",
    "print(df.isnull().sum().to_string())"
   ]
  },
  {
   "cell_type": "code",
   "execution_count": 11,
   "id": "59996343",
   "metadata": {},
   "outputs": [],
   "source": [
    "# Convert data types if needed\n",
    "df['created_at'] = pd.to_datetime(df['created_at'])"
   ]
  },
  {
   "cell_type": "code",
   "execution_count": 12,
   "id": "18ba2999",
   "metadata": {
    "scrolled": true
   },
   "outputs": [
    {
     "data": {
      "text/html": [
       "<div>\n",
       "<style scoped>\n",
       "    .dataframe tbody tr th:only-of-type {\n",
       "        vertical-align: middle;\n",
       "    }\n",
       "\n",
       "    .dataframe tbody tr th {\n",
       "        vertical-align: top;\n",
       "    }\n",
       "\n",
       "    .dataframe thead th {\n",
       "        text-align: right;\n",
       "    }\n",
       "</style>\n",
       "<table border=\"1\" class=\"dataframe\">\n",
       "  <thead>\n",
       "    <tr style=\"text-align: right;\">\n",
       "      <th></th>\n",
       "      <th>name</th>\n",
       "      <th>url</th>\n",
       "      <th>description</th>\n",
       "      <th>stars</th>\n",
       "      <th>created_at</th>\n",
       "      <th>language</th>\n",
       "      <th>forks</th>\n",
       "      <th>open_issues</th>\n",
       "      <th>owner</th>\n",
       "    </tr>\n",
       "  </thead>\n",
       "  <tbody>\n",
       "    <tr>\n",
       "      <th>0</th>\n",
       "      <td>notepad--</td>\n",
       "      <td>https://github.com/cxasm/notepad--</td>\n",
       "      <td>一个支持windows/linux/mac的文本编辑器，目标是做中国人自己的编辑器，来自中国。</td>\n",
       "      <td>2939</td>\n",
       "      <td>2022-06-15 02:50:15+00:00</td>\n",
       "      <td>C++</td>\n",
       "      <td>117</td>\n",
       "      <td>114</td>\n",
       "      <td>cxasm</td>\n",
       "    </tr>\n",
       "    <tr>\n",
       "      <th>1</th>\n",
       "      <td>pocket-casts-android</td>\n",
       "      <td>https://github.com/Automattic/pocket-casts-and...</td>\n",
       "      <td>Pocket Casts Android 🎧</td>\n",
       "      <td>2250</td>\n",
       "      <td>2022-06-15 12:41:42+00:00</td>\n",
       "      <td>Kotlin</td>\n",
       "      <td>168</td>\n",
       "      <td>252</td>\n",
       "      <td>Automattic</td>\n",
       "    </tr>\n",
       "    <tr>\n",
       "      <th>2</th>\n",
       "      <td>nvim-basic-ide</td>\n",
       "      <td>https://github.com/LunarVim/nvim-basic-ide</td>\n",
       "      <td>🪨 This is my attempt at a basic stable startin...</td>\n",
       "      <td>1664</td>\n",
       "      <td>2022-06-15 23:06:53+00:00</td>\n",
       "      <td>Lua</td>\n",
       "      <td>436</td>\n",
       "      <td>3</td>\n",
       "      <td>LunarVim</td>\n",
       "    </tr>\n",
       "    <tr>\n",
       "      <th>3</th>\n",
       "      <td>sismo-hub</td>\n",
       "      <td>https://github.com/sismo-core/sismo-hub</td>\n",
       "      <td>There is no description</td>\n",
       "      <td>893</td>\n",
       "      <td>2022-06-15 16:44:53+00:00</td>\n",
       "      <td>TypeScript</td>\n",
       "      <td>184</td>\n",
       "      <td>7</td>\n",
       "      <td>sismo-core</td>\n",
       "    </tr>\n",
       "    <tr>\n",
       "      <th>4</th>\n",
       "      <td>Antenna</td>\n",
       "      <td>https://github.com/wuba/Antenna</td>\n",
       "      <td>Antenna是58同城安全团队打造的一款辅助安全从业人员验证网络中多种漏洞是否存在以及可利...</td>\n",
       "      <td>675</td>\n",
       "      <td>2022-06-15 06:42:25+00:00</td>\n",
       "      <td>JavaScript</td>\n",
       "      <td>72</td>\n",
       "      <td>3</td>\n",
       "      <td>wuba</td>\n",
       "    </tr>\n",
       "  </tbody>\n",
       "</table>\n",
       "</div>"
      ],
      "text/plain": [
       "                   name                                                url   \n",
       "0             notepad--                 https://github.com/cxasm/notepad--  \\\n",
       "1  pocket-casts-android  https://github.com/Automattic/pocket-casts-and...   \n",
       "2        nvim-basic-ide         https://github.com/LunarVim/nvim-basic-ide   \n",
       "3             sismo-hub            https://github.com/sismo-core/sismo-hub   \n",
       "4               Antenna                    https://github.com/wuba/Antenna   \n",
       "\n",
       "                                         description  stars   \n",
       "0    一个支持windows/linux/mac的文本编辑器，目标是做中国人自己的编辑器，来自中国。   2939  \\\n",
       "1                             Pocket Casts Android 🎧   2250   \n",
       "2  🪨 This is my attempt at a basic stable startin...   1664   \n",
       "3                            There is no description    893   \n",
       "4  Antenna是58同城安全团队打造的一款辅助安全从业人员验证网络中多种漏洞是否存在以及可利...    675   \n",
       "\n",
       "                 created_at    language  forks  open_issues       owner  \n",
       "0 2022-06-15 02:50:15+00:00         C++    117          114       cxasm  \n",
       "1 2022-06-15 12:41:42+00:00      Kotlin    168          252  Automattic  \n",
       "2 2022-06-15 23:06:53+00:00         Lua    436            3    LunarVim  \n",
       "3 2022-06-15 16:44:53+00:00  TypeScript    184            7  sismo-core  \n",
       "4 2022-06-15 06:42:25+00:00  JavaScript     72            3        wuba  "
      ]
     },
     "execution_count": 12,
     "metadata": {},
     "output_type": "execute_result"
    }
   ],
   "source": [
    "df.head()"
   ]
  },
  {
   "cell_type": "code",
   "execution_count": 13,
   "id": "61273e58",
   "metadata": {},
   "outputs": [
    {
     "name": "stdout",
     "output_type": "stream",
     "text": [
      "(16069, 9)\n"
     ]
    }
   ],
   "source": [
    "# Size\n",
    "print(df.shape)"
   ]
  },
  {
   "cell_type": "code",
   "execution_count": 14,
   "id": "9d5def87",
   "metadata": {
    "scrolled": true
   },
   "outputs": [
    {
     "data": {
      "text/html": [
       "<div>\n",
       "<style scoped>\n",
       "    .dataframe tbody tr th:only-of-type {\n",
       "        vertical-align: middle;\n",
       "    }\n",
       "\n",
       "    .dataframe tbody tr th {\n",
       "        vertical-align: top;\n",
       "    }\n",
       "\n",
       "    .dataframe thead th {\n",
       "        text-align: right;\n",
       "    }\n",
       "</style>\n",
       "<table border=\"1\" class=\"dataframe\">\n",
       "  <thead>\n",
       "    <tr style=\"text-align: right;\">\n",
       "      <th></th>\n",
       "      <th>stars</th>\n",
       "      <th>forks</th>\n",
       "      <th>open_issues</th>\n",
       "    </tr>\n",
       "  </thead>\n",
       "  <tbody>\n",
       "    <tr>\n",
       "      <th>count</th>\n",
       "      <td>16069.000000</td>\n",
       "      <td>16069.000000</td>\n",
       "      <td>16069.000000</td>\n",
       "    </tr>\n",
       "    <tr>\n",
       "      <th>mean</th>\n",
       "      <td>469.774224</td>\n",
       "      <td>70.936773</td>\n",
       "      <td>10.505321</td>\n",
       "    </tr>\n",
       "    <tr>\n",
       "      <th>std</th>\n",
       "      <td>2350.700859</td>\n",
       "      <td>554.771349</td>\n",
       "      <td>51.071333</td>\n",
       "    </tr>\n",
       "    <tr>\n",
       "      <th>min</th>\n",
       "      <td>14.000000</td>\n",
       "      <td>0.000000</td>\n",
       "      <td>0.000000</td>\n",
       "    </tr>\n",
       "    <tr>\n",
       "      <th>25%</th>\n",
       "      <td>85.000000</td>\n",
       "      <td>6.000000</td>\n",
       "      <td>0.000000</td>\n",
       "    </tr>\n",
       "    <tr>\n",
       "      <th>50%</th>\n",
       "      <td>134.000000</td>\n",
       "      <td>14.000000</td>\n",
       "      <td>2.000000</td>\n",
       "    </tr>\n",
       "    <tr>\n",
       "      <th>75%</th>\n",
       "      <td>272.000000</td>\n",
       "      <td>36.000000</td>\n",
       "      <td>7.000000</td>\n",
       "    </tr>\n",
       "    <tr>\n",
       "      <th>max</th>\n",
       "      <td>140875.000000</td>\n",
       "      <td>31289.000000</td>\n",
       "      <td>2951.000000</td>\n",
       "    </tr>\n",
       "  </tbody>\n",
       "</table>\n",
       "</div>"
      ],
      "text/plain": [
       "               stars         forks   open_issues\n",
       "count   16069.000000  16069.000000  16069.000000\n",
       "mean      469.774224     70.936773     10.505321\n",
       "std      2350.700859    554.771349     51.071333\n",
       "min        14.000000      0.000000      0.000000\n",
       "25%        85.000000      6.000000      0.000000\n",
       "50%       134.000000     14.000000      2.000000\n",
       "75%       272.000000     36.000000      7.000000\n",
       "max    140875.000000  31289.000000   2951.000000"
      ]
     },
     "execution_count": 14,
     "metadata": {},
     "output_type": "execute_result"
    }
   ],
   "source": [
    "df.describe()"
   ]
  },
  {
   "cell_type": "code",
   "execution_count": 15,
   "id": "8d6385d7",
   "metadata": {},
   "outputs": [
    {
     "data": {
      "image/png": "[encoded data removed]",
      "text/plain": [
       "<Figure size 640x480 with 1 Axes>"
      ]
     },
     "metadata": {},
     "output_type": "display_data"
    }
   ],
   "source": [
    "# Create box plots for each column\n",
    "sns.boxplot(data=df[['stars', 'forks','open_issues']])\n",
    "plt.title('Box Plots')\n",
    "plt.xlabel('Columns')\n",
    "plt.ylabel('Values')\n",
    "plt.show()"
   ]
  },
  {
   "cell_type": "code",
   "execution_count": 16,
   "id": "08f275c3",
   "metadata": {},
   "outputs": [
    {
     "data": {
      "image/png": "[encoded data removed]",
      "text/plain": [
       "<Figure size 640x480 with 1 Axes>"
      ]
     },
     "metadata": {},
     "output_type": "display_data"
    }
   ],
   "source": [
    "# Create a scatter plot with 'stars' and 'forks'\n",
    "sns.scatterplot(x='stars', y='forks', data=df)\n",
    "plt.xlabel('stars')\n",
    "plt.ylabel('Forks')\n",
    "plt.title('Stars vs Forks')\n",
    "plt.show()"
   ]
  },
  {
   "cell_type": "code",
   "execution_count": 17,
   "id": "47aa7986",
   "metadata": {},
   "outputs": [
    {
     "data": {
      "text/html": [
       "<div>\n",
       "<style scoped>\n",
       "    .dataframe tbody tr th:only-of-type {\n",
       "        vertical-align: middle;\n",
       "    }\n",
       "\n",
       "    .dataframe tbody tr th {\n",
       "        vertical-align: top;\n",
       "    }\n",
       "\n",
       "    .dataframe thead th {\n",
       "        text-align: right;\n",
       "    }\n",
       "</style>\n",
       "<table border=\"1\" class=\"dataframe\">\n",
       "  <thead>\n",
       "    <tr style=\"text-align: right;\">\n",
       "      <th></th>\n",
       "      <th>stars</th>\n",
       "      <th>forks</th>\n",
       "      <th>open_issues</th>\n",
       "    </tr>\n",
       "  </thead>\n",
       "  <tbody>\n",
       "    <tr>\n",
       "      <th>count</th>\n",
       "      <td>16069.000000</td>\n",
       "      <td>16069.000000</td>\n",
       "      <td>16069.000000</td>\n",
       "    </tr>\n",
       "    <tr>\n",
       "      <th>mean</th>\n",
       "      <td>469.774224</td>\n",
       "      <td>70.936773</td>\n",
       "      <td>10.505321</td>\n",
       "    </tr>\n",
       "    <tr>\n",
       "      <th>std</th>\n",
       "      <td>2350.700859</td>\n",
       "      <td>554.771349</td>\n",
       "      <td>51.071333</td>\n",
       "    </tr>\n",
       "    <tr>\n",
       "      <th>min</th>\n",
       "      <td>14.000000</td>\n",
       "      <td>0.000000</td>\n",
       "      <td>0.000000</td>\n",
       "    </tr>\n",
       "    <tr>\n",
       "      <th>25%</th>\n",
       "      <td>85.000000</td>\n",
       "      <td>6.000000</td>\n",
       "      <td>0.000000</td>\n",
       "    </tr>\n",
       "    <tr>\n",
       "      <th>50%</th>\n",
       "      <td>134.000000</td>\n",
       "      <td>14.000000</td>\n",
       "      <td>2.000000</td>\n",
       "    </tr>\n",
       "    <tr>\n",
       "      <th>75%</th>\n",
       "      <td>272.000000</td>\n",
       "      <td>36.000000</td>\n",
       "      <td>7.000000</td>\n",
       "    </tr>\n",
       "    <tr>\n",
       "      <th>max</th>\n",
       "      <td>140875.000000</td>\n",
       "      <td>31289.000000</td>\n",
       "      <td>2951.000000</td>\n",
       "    </tr>\n",
       "  </tbody>\n",
       "</table>\n",
       "</div>"
      ],
      "text/plain": [
       "               stars         forks   open_issues\n",
       "count   16069.000000  16069.000000  16069.000000\n",
       "mean      469.774224     70.936773     10.505321\n",
       "std      2350.700859    554.771349     51.071333\n",
       "min        14.000000      0.000000      0.000000\n",
       "25%        85.000000      6.000000      0.000000\n",
       "50%       134.000000     14.000000      2.000000\n",
       "75%       272.000000     36.000000      7.000000\n",
       "max    140875.000000  31289.000000   2951.000000"
      ]
     },
     "execution_count": 17,
     "metadata": {},
     "output_type": "execute_result"
    }
   ],
   "source": [
    "df.describe()"
   ]
  },
  {
   "cell_type": "code",
   "execution_count": 18,
   "id": "fe783544",
   "metadata": {},
   "outputs": [],
   "source": [
    "import re\n",
    "\n",
    "# Function to clean the description text\n",
    "def clean_description(description):\n",
    "    # Remove special characters, emojis, and non-alphanumeric characters\n",
    "    cleaned_text = re.sub(r'[^\\w\\s]', '', description)\n",
    "    cleaned_text = re.sub(r'\\s+', ' ', cleaned_text)\n",
    "    return cleaned_text.strip()\n",
    "\n",
    "# Clean the values in the 'description' column\n",
    "df['description'] = df['description'].apply(clean_description)"
   ]
  },
  {
   "cell_type": "code",
   "execution_count": 19,
   "id": "ad9da556",
   "metadata": {
    "scrolled": true
   },
   "outputs": [
    {
     "data": {
      "text/html": [
       "<div>\n",
       "<style scoped>\n",
       "    .dataframe tbody tr th:only-of-type {\n",
       "        vertical-align: middle;\n",
       "    }\n",
       "\n",
       "    .dataframe tbody tr th {\n",
       "        vertical-align: top;\n",
       "    }\n",
       "\n",
       "    .dataframe thead th {\n",
       "        text-align: right;\n",
       "    }\n",
       "</style>\n",
       "<table border=\"1\" class=\"dataframe\">\n",
       "  <thead>\n",
       "    <tr style=\"text-align: right;\">\n",
       "      <th></th>\n",
       "      <th>name</th>\n",
       "      <th>url</th>\n",
       "      <th>description</th>\n",
       "      <th>stars</th>\n",
       "      <th>created_at</th>\n",
       "      <th>language</th>\n",
       "      <th>forks</th>\n",
       "      <th>open_issues</th>\n",
       "      <th>owner</th>\n",
       "    </tr>\n",
       "  </thead>\n",
       "  <tbody>\n",
       "    <tr>\n",
       "      <th>0</th>\n",
       "      <td>notepad--</td>\n",
       "      <td>https://github.com/cxasm/notepad--</td>\n",
       "      <td>一个支持windowslinuxmac的文本编辑器目标是做中国人自己的编辑器来自中国</td>\n",
       "      <td>2939</td>\n",
       "      <td>2022-06-15 02:50:15+00:00</td>\n",
       "      <td>C++</td>\n",
       "      <td>117</td>\n",
       "      <td>114</td>\n",
       "      <td>cxasm</td>\n",
       "    </tr>\n",
       "    <tr>\n",
       "      <th>1</th>\n",
       "      <td>pocket-casts-android</td>\n",
       "      <td>https://github.com/Automattic/pocket-casts-and...</td>\n",
       "      <td>Pocket Casts Android</td>\n",
       "      <td>2250</td>\n",
       "      <td>2022-06-15 12:41:42+00:00</td>\n",
       "      <td>Kotlin</td>\n",
       "      <td>168</td>\n",
       "      <td>252</td>\n",
       "      <td>Automattic</td>\n",
       "    </tr>\n",
       "    <tr>\n",
       "      <th>2</th>\n",
       "      <td>nvim-basic-ide</td>\n",
       "      <td>https://github.com/LunarVim/nvim-basic-ide</td>\n",
       "      <td>This is my attempt at a basic stable starting ...</td>\n",
       "      <td>1664</td>\n",
       "      <td>2022-06-15 23:06:53+00:00</td>\n",
       "      <td>Lua</td>\n",
       "      <td>436</td>\n",
       "      <td>3</td>\n",
       "      <td>LunarVim</td>\n",
       "    </tr>\n",
       "    <tr>\n",
       "      <th>3</th>\n",
       "      <td>sismo-hub</td>\n",
       "      <td>https://github.com/sismo-core/sismo-hub</td>\n",
       "      <td>There is no description</td>\n",
       "      <td>893</td>\n",
       "      <td>2022-06-15 16:44:53+00:00</td>\n",
       "      <td>TypeScript</td>\n",
       "      <td>184</td>\n",
       "      <td>7</td>\n",
       "      <td>sismo-core</td>\n",
       "    </tr>\n",
       "    <tr>\n",
       "      <th>4</th>\n",
       "      <td>Antenna</td>\n",
       "      <td>https://github.com/wuba/Antenna</td>\n",
       "      <td>Antenna是58同城安全团队打造的一款辅助安全从业人员验证网络中多种漏洞是否存在以及可利...</td>\n",
       "      <td>675</td>\n",
       "      <td>2022-06-15 06:42:25+00:00</td>\n",
       "      <td>JavaScript</td>\n",
       "      <td>72</td>\n",
       "      <td>3</td>\n",
       "      <td>wuba</td>\n",
       "    </tr>\n",
       "  </tbody>\n",
       "</table>\n",
       "</div>"
      ],
      "text/plain": [
       "                   name                                                url   \n",
       "0             notepad--                 https://github.com/cxasm/notepad--  \\\n",
       "1  pocket-casts-android  https://github.com/Automattic/pocket-casts-and...   \n",
       "2        nvim-basic-ide         https://github.com/LunarVim/nvim-basic-ide   \n",
       "3             sismo-hub            https://github.com/sismo-core/sismo-hub   \n",
       "4               Antenna                    https://github.com/wuba/Antenna   \n",
       "\n",
       "                                         description  stars   \n",
       "0         一个支持windowslinuxmac的文本编辑器目标是做中国人自己的编辑器来自中国   2939  \\\n",
       "1                               Pocket Casts Android   2250   \n",
       "2  This is my attempt at a basic stable starting ...   1664   \n",
       "3                            There is no description    893   \n",
       "4  Antenna是58同城安全团队打造的一款辅助安全从业人员验证网络中多种漏洞是否存在以及可利...    675   \n",
       "\n",
       "                 created_at    language  forks  open_issues       owner  \n",
       "0 2022-06-15 02:50:15+00:00         C++    117          114       cxasm  \n",
       "1 2022-06-15 12:41:42+00:00      Kotlin    168          252  Automattic  \n",
       "2 2022-06-15 23:06:53+00:00         Lua    436            3    LunarVim  \n",
       "3 2022-06-15 16:44:53+00:00  TypeScript    184            7  sismo-core  \n",
       "4 2022-06-15 06:42:25+00:00  JavaScript     72            3        wuba  "
      ]
     },
     "execution_count": 19,
     "metadata": {},
     "output_type": "execute_result"
    }
   ],
   "source": [
    "df.head()"
   ]
  },
  {
   "cell_type": "code",
   "execution_count": 20,
   "id": "8d654233",
   "metadata": {},
   "outputs": [
    {
     "name": "stdout",
     "output_type": "stream",
     "text": [
      "No special characters, emojis, or non-alphanumeric characters found in any of the descriptions.\n"
     ]
    }
   ],
   "source": [
    "# Check if special characters, emojis, and non-alphanumeric characters have been removed\n",
    "differences_found = False  # Flag to track if any differences were found\n",
    "\n",
    "for index, row in df.iterrows():\n",
    "    original_description = str(row['description'])\n",
    "    cleaned_description = clean_description(original_description)\n",
    "    \n",
    "    if original_description != cleaned_description:\n",
    "        print(f\"Differences found in Description at row {index}:\")\n",
    "        print(f\"Original Description: {original_description}\")\n",
    "        print(f\"Cleaned Description: {cleaned_description}\")\n",
    "        print(\"-------------------------------\")\n",
    "        differences_found = True\n",
    "\n",
    "if not differences_found:\n",
    "    print(\"No special characters, emojis, or non-alphanumeric characters found in any of the descriptions.\")"
   ]
  },
  {
   "cell_type": "code",
   "execution_count": 21,
   "id": "03d4f592",
   "metadata": {},
   "outputs": [
    {
     "data": {
      "text/html": [
       "<div>\n",
       "<style scoped>\n",
       "    .dataframe tbody tr th:only-of-type {\n",
       "        vertical-align: middle;\n",
       "    }\n",
       "\n",
       "    .dataframe tbody tr th {\n",
       "        vertical-align: top;\n",
       "    }\n",
       "\n",
       "    .dataframe thead th {\n",
       "        text-align: right;\n",
       "    }\n",
       "</style>\n",
       "<table border=\"1\" class=\"dataframe\">\n",
       "  <thead>\n",
       "    <tr style=\"text-align: right;\">\n",
       "      <th></th>\n",
       "      <th>name</th>\n",
       "      <th>url</th>\n",
       "      <th>description</th>\n",
       "      <th>stars</th>\n",
       "      <th>created_at</th>\n",
       "      <th>language</th>\n",
       "      <th>forks</th>\n",
       "      <th>open_issues</th>\n",
       "      <th>owner</th>\n",
       "    </tr>\n",
       "  </thead>\n",
       "  <tbody>\n",
       "    <tr>\n",
       "      <th>2778</th>\n",
       "      <td>f1-championship-stats</td>\n",
       "      <td>https://github.com/planetscale/f1-championship...</td>\n",
       "      <td></td>\n",
       "      <td>124</td>\n",
       "      <td>2022-08-09 16:28:20+00:00</td>\n",
       "      <td>TypeScript</td>\n",
       "      <td>5</td>\n",
       "      <td>10</td>\n",
       "      <td>planetscale</td>\n",
       "    </tr>\n",
       "    <tr>\n",
       "      <th>6479</th>\n",
       "      <td>SparkleC</td>\n",
       "      <td>https://github.com/Kartatz/SparkleC</td>\n",
       "      <td></td>\n",
       "      <td>94</td>\n",
       "      <td>2022-10-22 04:13:28+00:00</td>\n",
       "      <td>C</td>\n",
       "      <td>10</td>\n",
       "      <td>0</td>\n",
       "      <td>Kartatz</td>\n",
       "    </tr>\n",
       "    <tr>\n",
       "      <th>10357</th>\n",
       "      <td>volar.js</td>\n",
       "      <td>https://github.com/volarjs/volar.js</td>\n",
       "      <td></td>\n",
       "      <td>298</td>\n",
       "      <td>2023-01-08 14:27:04+00:00</td>\n",
       "      <td>TypeScript</td>\n",
       "      <td>12</td>\n",
       "      <td>9</td>\n",
       "      <td>volarjs</td>\n",
       "    </tr>\n",
       "  </tbody>\n",
       "</table>\n",
       "</div>"
      ],
      "text/plain": [
       "                        name   \n",
       "2778   f1-championship-stats  \\\n",
       "6479                SparkleC   \n",
       "10357               volar.js   \n",
       "\n",
       "                                                     url description  stars   \n",
       "2778   https://github.com/planetscale/f1-championship...                124  \\\n",
       "6479                 https://github.com/Kartatz/SparkleC                 94   \n",
       "10357                https://github.com/volarjs/volar.js                298   \n",
       "\n",
       "                     created_at    language  forks  open_issues        owner  \n",
       "2778  2022-08-09 16:28:20+00:00  TypeScript      5           10  planetscale  \n",
       "6479  2022-10-22 04:13:28+00:00           C     10            0      Kartatz  \n",
       "10357 2023-01-08 14:27:04+00:00  TypeScript     12            9      volarjs  "
      ]
     },
     "execution_count": 21,
     "metadata": {},
     "output_type": "execute_result"
    }
   ],
   "source": [
    "# Return only the rows with an empty 'description'\n",
    "df.loc[df['description'] == '']"
   ]
  },
  {
   "cell_type": "code",
   "execution_count": 22,
   "id": "a8fe527c",
   "metadata": {},
   "outputs": [],
   "source": [
    "# Replace empty values with 'There is no description'\n",
    "df.loc[df['description'] == '', 'description'] = 'There is no description'"
   ]
  },
  {
   "cell_type": "code",
   "execution_count": 23,
   "id": "378a9e5b",
   "metadata": {},
   "outputs": [
    {
     "data": {
      "text/html": [
       "<div>\n",
       "<style scoped>\n",
       "    .dataframe tbody tr th:only-of-type {\n",
       "        vertical-align: middle;\n",
       "    }\n",
       "\n",
       "    .dataframe tbody tr th {\n",
       "        vertical-align: top;\n",
       "    }\n",
       "\n",
       "    .dataframe thead th {\n",
       "        text-align: right;\n",
       "    }\n",
       "</style>\n",
       "<table border=\"1\" class=\"dataframe\">\n",
       "  <thead>\n",
       "    <tr style=\"text-align: right;\">\n",
       "      <th></th>\n",
       "      <th>name</th>\n",
       "      <th>url</th>\n",
       "      <th>description</th>\n",
       "      <th>stars</th>\n",
       "      <th>created_at</th>\n",
       "      <th>language</th>\n",
       "      <th>forks</th>\n",
       "      <th>open_issues</th>\n",
       "      <th>owner</th>\n",
       "    </tr>\n",
       "  </thead>\n",
       "  <tbody>\n",
       "  </tbody>\n",
       "</table>\n",
       "</div>"
      ],
      "text/plain": [
       "Empty DataFrame\n",
       "Columns: [name, url, description, stars, created_at, language, forks, open_issues, owner]\n",
       "Index: []"
      ]
     },
     "execution_count": 23,
     "metadata": {},
     "output_type": "execute_result"
    }
   ],
   "source": [
    "# Return only the rows with an empty 'description'\n",
    "df.loc[df['description'] == '']"
   ]
  },
  {
   "cell_type": "code",
   "execution_count": 24,
   "id": "ed0e2247",
   "metadata": {},
   "outputs": [
    {
     "name": "stdout",
     "output_type": "stream",
     "text": [
      "(16069, 9)\n"
     ]
    }
   ],
   "source": [
    "print(df.shape)"
   ]
  },
  {
   "cell_type": "code",
   "execution_count": 25,
   "id": "6a18eeae",
   "metadata": {},
   "outputs": [
    {
     "data": {
      "text/html": [
       "<div>\n",
       "<style scoped>\n",
       "    .dataframe tbody tr th:only-of-type {\n",
       "        vertical-align: middle;\n",
       "    }\n",
       "\n",
       "    .dataframe tbody tr th {\n",
       "        vertical-align: top;\n",
       "    }\n",
       "\n",
       "    .dataframe thead th {\n",
       "        text-align: right;\n",
       "    }\n",
       "</style>\n",
       "<table border=\"1\" class=\"dataframe\">\n",
       "  <thead>\n",
       "    <tr style=\"text-align: right;\">\n",
       "      <th></th>\n",
       "      <th>name</th>\n",
       "      <th>url</th>\n",
       "      <th>description</th>\n",
       "      <th>stars</th>\n",
       "      <th>created_at</th>\n",
       "      <th>language</th>\n",
       "      <th>forks</th>\n",
       "      <th>open_issues</th>\n",
       "      <th>owner</th>\n",
       "    </tr>\n",
       "  </thead>\n",
       "  <tbody>\n",
       "    <tr>\n",
       "      <th>0</th>\n",
       "      <td>notepad--</td>\n",
       "      <td>https://github.com/cxasm/notepad--</td>\n",
       "      <td>一个支持windowslinuxmac的文本编辑器目标是做中国人自己的编辑器来自中国</td>\n",
       "      <td>2939</td>\n",
       "      <td>2022-06-15 02:50:15+00:00</td>\n",
       "      <td>C++</td>\n",
       "      <td>117</td>\n",
       "      <td>114</td>\n",
       "      <td>cxasm</td>\n",
       "    </tr>\n",
       "    <tr>\n",
       "      <th>1</th>\n",
       "      <td>pocket-casts-android</td>\n",
       "      <td>https://github.com/Automattic/pocket-casts-and...</td>\n",
       "      <td>Pocket Casts Android</td>\n",
       "      <td>2250</td>\n",
       "      <td>2022-06-15 12:41:42+00:00</td>\n",
       "      <td>Kotlin</td>\n",
       "      <td>168</td>\n",
       "      <td>252</td>\n",
       "      <td>Automattic</td>\n",
       "    </tr>\n",
       "    <tr>\n",
       "      <th>2</th>\n",
       "      <td>nvim-basic-ide</td>\n",
       "      <td>https://github.com/LunarVim/nvim-basic-ide</td>\n",
       "      <td>This is my attempt at a basic stable starting ...</td>\n",
       "      <td>1664</td>\n",
       "      <td>2022-06-15 23:06:53+00:00</td>\n",
       "      <td>Lua</td>\n",
       "      <td>436</td>\n",
       "      <td>3</td>\n",
       "      <td>LunarVim</td>\n",
       "    </tr>\n",
       "    <tr>\n",
       "      <th>3</th>\n",
       "      <td>sismo-hub</td>\n",
       "      <td>https://github.com/sismo-core/sismo-hub</td>\n",
       "      <td>There is no description</td>\n",
       "      <td>893</td>\n",
       "      <td>2022-06-15 16:44:53+00:00</td>\n",
       "      <td>TypeScript</td>\n",
       "      <td>184</td>\n",
       "      <td>7</td>\n",
       "      <td>sismo-core</td>\n",
       "    </tr>\n",
       "    <tr>\n",
       "      <th>4</th>\n",
       "      <td>Antenna</td>\n",
       "      <td>https://github.com/wuba/Antenna</td>\n",
       "      <td>Antenna是58同城安全团队打造的一款辅助安全从业人员验证网络中多种漏洞是否存在以及可利...</td>\n",
       "      <td>675</td>\n",
       "      <td>2022-06-15 06:42:25+00:00</td>\n",
       "      <td>JavaScript</td>\n",
       "      <td>72</td>\n",
       "      <td>3</td>\n",
       "      <td>wuba</td>\n",
       "    </tr>\n",
       "  </tbody>\n",
       "</table>\n",
       "</div>"
      ],
      "text/plain": [
       "                   name                                                url   \n",
       "0             notepad--                 https://github.com/cxasm/notepad--  \\\n",
       "1  pocket-casts-android  https://github.com/Automattic/pocket-casts-and...   \n",
       "2        nvim-basic-ide         https://github.com/LunarVim/nvim-basic-ide   \n",
       "3             sismo-hub            https://github.com/sismo-core/sismo-hub   \n",
       "4               Antenna                    https://github.com/wuba/Antenna   \n",
       "\n",
       "                                         description  stars   \n",
       "0         一个支持windowslinuxmac的文本编辑器目标是做中国人自己的编辑器来自中国   2939  \\\n",
       "1                               Pocket Casts Android   2250   \n",
       "2  This is my attempt at a basic stable starting ...   1664   \n",
       "3                            There is no description    893   \n",
       "4  Antenna是58同城安全团队打造的一款辅助安全从业人员验证网络中多种漏洞是否存在以及可利...    675   \n",
       "\n",
       "                 created_at    language  forks  open_issues       owner  \n",
       "0 2022-06-15 02:50:15+00:00         C++    117          114       cxasm  \n",
       "1 2022-06-15 12:41:42+00:00      Kotlin    168          252  Automattic  \n",
       "2 2022-06-15 23:06:53+00:00         Lua    436            3    LunarVim  \n",
       "3 2022-06-15 16:44:53+00:00  TypeScript    184            7  sismo-core  \n",
       "4 2022-06-15 06:42:25+00:00  JavaScript     72            3        wuba  "
      ]
     },
     "execution_count": 25,
     "metadata": {},
     "output_type": "execute_result"
    }
   ],
   "source": [
    "df.head()"
   ]
  },
  {
   "cell_type": "code",
   "execution_count": null,
   "id": "36659d64",
   "metadata": {},
   "outputs": [],
   "source": [
    "import pandas as pd\n",
    "from ibm_watson import LanguageTranslatorV3\n",
    "from ibm_cloud_sdk_core.authenticators import IAMAuthenticator\n",
    "from ibm_cloud_sdk_core.api_exception import ApiException\n",
    "\n",
    "# Initialize the Language Translator client\n",
    "authenticator = IAMAuthenticator('key')\n",
    "language_translator = LanguageTranslatorV3(\n",
    "    version='version',\n",
    "    authenticator=authenticator\n",
    ")\n",
    "language_translator.set_service_url('url')\n",
    "\n",
    "# Function to translate text\n",
    "def translate_text(text, source_lang, target_lang):\n",
    "    try:\n",
    "        translation = language_translator.translate(\n",
    "            text=text,\n",
    "            model_id=f'{source_lang}-{target_lang}'\n",
    "        ).get_result()\n",
    "\n",
    "        translated_text = translation['translations'][0]['translation']\n",
    "        return translated_text\n",
    "    except ApiException as e:\n",
    "        if e.code == 404:\n",
    "            print(\"Translation model not found. Please check the language codes.\")\n",
    "        else:\n",
    "            print(\"An error occurred during translation:\", e)\n",
    "        return ''\n",
    "\n",
    "# Specify the column to translate\n",
    "column_to_translate = 'description'  # Replace with your desired column name\n",
    "\n",
    "# List of language codes in your DataFrame\n",
    "language_codes = ['en', 'fr', 'de', 'es']  # Add more language codes as needed\n",
    "\n",
    "# Specify the target language\n",
    "target_lang = 'en'  # The target language is English\n",
    "\n",
    "# Iterate over each language code and translate the text\n",
    "for lang_code in language_codes:\n",
    "    # Create a new column to store the translated text for each language\n",
    "    df[f'translated_description_{lang_code}'] = ''\n",
    "\n",
    "    # Iterate over each row in the DataFrame\n",
    "    for index, row in df.iterrows():\n",
    "        description = str(row[column_to_translate])\n",
    "\n",
    "        # Translate the description if it's not already in English\n",
    "        if description and row['language'] != lang_code:\n",
    "            translated_description = translate_text(description, lang_code, target_lang)\n",
    "            df.at[index, f'translated_description_{lang_code}'] = translated_description\n",
    "\n",
    "# Save the updated DataFrame to a new CSV file\n",
    "df.to_csv('Translated_file.csv', index=False)"
   ]
  },
  {
   "cell_type": "code",
   "execution_count": null,
   "id": "3abb0c26",
   "metadata": {},
   "outputs": [],
   "source": []
  }
 ],
 "metadata": {
  "kernelspec": {
   "display_name": "Python 3 (ipykernel)",
   "language": "python",
   "name": "python3"
  },
  "language_info": {
   "codemirror_mode": {
    "name": "ipython",
    "version": 3
   },
   "file_extension": ".py",
   "mimetype": "text/x-python",
   "name": "python",
   "nbconvert_exporter": "python",
   "pygments_lexer": "ipython3",
   "version": "3.11.3"
  }
 },
 "nbformat": 4,
 "nbformat_minor": 5
}
